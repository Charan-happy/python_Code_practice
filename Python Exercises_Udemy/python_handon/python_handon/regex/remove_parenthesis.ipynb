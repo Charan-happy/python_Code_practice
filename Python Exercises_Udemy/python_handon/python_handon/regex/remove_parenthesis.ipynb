{
 "cells": [
  {
   "cell_type": "code",
   "execution_count": null,
   "metadata": {
    "collapsed": true
   },
   "outputs": [],
   "source": [
    "# Write a Python program to remove the parenthesis area in a string.\n",
    "# \n",
    "# Input\n",
    "# [\"example (.com)\", \"w3resource\", \"github (.com)\", \"stackoverflow (.com)\"]\n",
    "# \n",
    "# Output\n",
    "# example                                                                                                       \n",
    "# w3resource                                                                                                    \n",
    "# github                                                                                                        \n",
    "# stackoverflow "
   ]
  }
 ],
 "metadata": {
  "kernelspec": {
   "display_name": "Python 3",
   "language": "python",
   "name": "python3"
  },
  "language_info": {
   "codemirror_mode": {
    "name": "ipython",
    "version": 3
   },
   "file_extension": ".py",
   "mimetype": "text/x-python",
   "name": "python",
   "nbconvert_exporter": "python",
   "pygments_lexer": "ipython3",
   "version": "3.11.1"
  },
  "vscode": {
   "interpreter": {
    "hash": "6cb525f6796a4ea344e509ce12d8351f642d7edd1364920692f495b236e49b1d"
   }
  }
 },
 "nbformat": 4,
 "nbformat_minor": 2
}
